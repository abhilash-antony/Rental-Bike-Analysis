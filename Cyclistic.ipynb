{
  "cells": [
    {
      "cell_type": "code",
      "execution_count": null,
      "metadata": {
        "colab": {
          "base_uri": "https://localhost:8080/"
        },
        "id": "o3CdEI5iH1nS",
        "outputId": "916860ac-9fbe-498d-cecd-21fae634e5a5"
      },
      "outputs": [
        {
          "output_type": "stream",
          "name": "stdout",
          "text": [
            "Mounted at /content/drive\n"
          ]
        }
      ],
      "source": [
        "# importing necessary libraries\n",
        "import pandas as pd\n",
        "import numpy as np\n",
        "import matplotlib.pyplot as plt\n",
        "import seaborn as sns\n",
        "from google.colab import drive\n",
        "import datetime\n",
        "import statistics\n",
        "\n",
        "drive.mount('/content/drive')"
      ]
    },
    {
      "cell_type": "code",
      "execution_count": null,
      "metadata": {
        "id": "lRf-GGqoH3q6"
      },
      "outputs": [],
      "source": [
        "#Reading the preprocessed files for each months\n",
        "jul = pd.read_csv('/content/drive/MyDrive/AA Cyclistic/202307-divvy-tripdata.csv')\n",
        "aug = pd.read_csv('/content/drive/MyDrive/AA Cyclistic/202308-divvy-tripdata.csv')\n",
        "sep = pd.read_csv('/content/drive/MyDrive/AA Cyclistic/202309-divvy-tripdata.csv')\n",
        "oct = pd.read_csv('/content/drive/MyDrive/AA Cyclistic/202310-divvy-tripdata.csv')\n",
        "nov = pd.read_csv('/content/drive/MyDrive/AA Cyclistic/202311-divvy-tripdata.csv')\n",
        "dec = pd.read_csv('/content/drive/MyDrive/AA Cyclistic/202312-divvy-tripdata.csv')\n",
        "jan = pd.read_csv('/content/drive/MyDrive/AA Cyclistic/202401-divvy-tripdata.csv')\n",
        "feb = pd.read_csv('/content/drive/MyDrive/AA Cyclistic/202402-divvy-tripdata.csv')\n",
        "mar = pd.read_csv('/content/drive/MyDrive/AA Cyclistic/202403-divvy-tripdata.csv')\n",
        "apr = pd.read_csv('/content/drive/MyDrive/AA Cyclistic/202404-divvy-tripdata.csv')\n",
        "may = pd.read_csv('/content/drive/MyDrive/AA Cyclistic/202405-divvy-tripdata.csv')\n",
        "jun = pd.read_csv('/content/drive/MyDrive/AA Cyclistic/202406-divvy-tripdata.csv')"
      ]
    },
    {
      "cell_type": "code",
      "source": [
        "# merging the data of all months to form a single data for the past year\n",
        "df = pd.concat([jul, aug, sep, oct, nov, dec, jan, feb, mar, apr, may, jun], ignore_index=True)\n",
        "df.reset_index(drop=True, inplace=True)\n",
        "df.info()"
      ],
      "metadata": {
        "colab": {
          "base_uri": "https://localhost:8080/"
        },
        "id": "u4nNB7wpQxWU",
        "outputId": "b2fbebab-15e8-4cbf-fc65-28fa9fe587fc"
      },
      "execution_count": null,
      "outputs": [
        {
          "output_type": "stream",
          "name": "stdout",
          "text": [
            "<class 'pandas.core.frame.DataFrame'>\n",
            "RangeIndex: 5740211 entries, 0 to 5740210\n",
            "Data columns (total 18 columns):\n",
            " #   Column              Dtype  \n",
            "---  ------              -----  \n",
            " 0   ride_id             object \n",
            " 1   rideable_type       object \n",
            " 2   started_at          object \n",
            " 3   ended_at            object \n",
            " 4   start_station_name  object \n",
            " 5   start_station_id    object \n",
            " 6   end_station_name    object \n",
            " 7   end_station_id      object \n",
            " 8   start_lat           float64\n",
            " 9   start_lng           float64\n",
            " 10  end_lat             float64\n",
            " 11  end_lng             float64\n",
            " 12  member_casual       object \n",
            " 13  ride_length         object \n",
            " 14  day_of_week         int64  \n",
            " 15  Unnamed: 15         float64\n",
            " 16  Unnamed: 16         float64\n",
            " 17  Unnamed: 17         float64\n",
            "dtypes: float64(7), int64(1), object(10)\n",
            "memory usage: 788.3+ MB\n"
          ]
        }
      ]
    },
    {
      "cell_type": "markdown",
      "source": [
        "The dataset contains 5.7 million (5,740,211) records across 18 columns. The appearance of unnamed columns in the DataFrame is typically due to data import issues, empty fields, or parsing errors during the dataset extraction or formatting process. We will remove these in the next step."
      ],
      "metadata": {
        "id": "wJ69WmO-Gwms"
      }
    },
    {
      "cell_type": "code",
      "execution_count": null,
      "metadata": {
        "colab": {
          "base_uri": "https://localhost:8080/"
        },
        "id": "vvMFSQRtIu8s",
        "outputId": "de8626c0-ffd7-4062-9236-afc8366554c8"
      },
      "outputs": [
        {
          "output_type": "execute_result",
          "data": {
            "text/plain": [
              "ride_id                     0\n",
              "rideable_type               0\n",
              "started_at                  0\n",
              "ended_at                    0\n",
              "start_station_name     933350\n",
              "start_station_id       933350\n",
              "end_station_name       980959\n",
              "end_station_id         980959\n",
              "start_lat                   0\n",
              "start_lng                   0\n",
              "end_lat                  7936\n",
              "end_lng                  7936\n",
              "member_casual               0\n",
              "ride_length                 0\n",
              "day_of_week                 0\n",
              "Unnamed: 15           5740211\n",
              "Unnamed: 16           5740211\n",
              "Unnamed: 17           5740211\n",
              "dtype: int64"
            ]
          },
          "metadata": {},
          "execution_count": 7
        }
      ],
      "source": [
        "# check for missing values\n",
        "df.isna().sum()"
      ]
    },
    {
      "cell_type": "code",
      "source": [
        "# dropping the irrelevant columns\n",
        "df.drop(columns = ['Unnamed: 15', 'Unnamed: 16', 'Unnamed: 17'], inplace=True)\n",
        "df.head()"
      ],
      "metadata": {
        "colab": {
          "base_uri": "https://localhost:8080/",
          "height": 330
        },
        "id": "lXNuYHj5qCEX",
        "outputId": "4a18cece-ae15-4e5e-dbe4-3f04442e63cc"
      },
      "execution_count": null,
      "outputs": [
        {
          "output_type": "execute_result",
          "data": {
            "text/plain": [
              "            ride_id  rideable_type      started_at        ended_at  \\\n",
              "0  9340B064F0AEE130  electric_bike  07/23/23 20:06  07/23/23 20:22   \n",
              "1  D1460EE3CE0D8AF8   classic_bike  07/23/23 17:05  07/23/23 17:18   \n",
              "2  DF41BE31B895A25E   classic_bike  07/23/23 10:14  07/23/23 10:24   \n",
              "3  9624A293749EF703  electric_bike   07/21/23 8:27   07/21/23 8:32   \n",
              "4  2F68A6A4CDB4C99A   classic_bike  07/08/23 15:46  07/08/23 15:58   \n",
              "\n",
              "         start_station_name start_station_id  \\\n",
              "0     Kedzie Ave & 110th St            20204   \n",
              "1   Western Ave & Walton St     KA1504000103   \n",
              "2   Western Ave & Walton St     KA1504000103   \n",
              "3  Racine Ave & Randolph St            13155   \n",
              "4     Clark St & Leland Ave     TA1309000014   \n",
              "\n",
              "                      end_station_name end_station_id  start_lat  start_lng  \\\n",
              "0  Public Rack - Racine Ave & 109th Pl            877  41.692406 -87.700905   \n",
              "1            Milwaukee Ave & Grand Ave          13033  41.898418 -87.686596   \n",
              "2               Damen Ave & Pierce Ave   TA1305000041  41.898418 -87.686596   \n",
              "3              Clinton St & Madison St   TA1305000032  41.884112 -87.656943   \n",
              "4                      Montrose Harbor   TA1308000012  41.967088 -87.667291   \n",
              "\n",
              "     end_lat    end_lng member_casual ride_length  day_of_week  \n",
              "0  41.694835 -87.653041        member     0:16:30            1  \n",
              "1  41.891578 -87.648384        member     0:13:30            1  \n",
              "2  41.909396 -87.677692        member     0:09:36            1  \n",
              "3  41.882752 -87.641190        member     0:04:56            6  \n",
              "4  41.963982 -87.638181        member     0:11:26            7  "
            ],
            "text/html": [
              "\n",
              "  <div id=\"df-a9970d04-452b-4588-b353-5bc22ad36c38\" class=\"colab-df-container\">\n",
              "    <div>\n",
              "<style scoped>\n",
              "    .dataframe tbody tr th:only-of-type {\n",
              "        vertical-align: middle;\n",
              "    }\n",
              "\n",
              "    .dataframe tbody tr th {\n",
              "        vertical-align: top;\n",
              "    }\n",
              "\n",
              "    .dataframe thead th {\n",
              "        text-align: right;\n",
              "    }\n",
              "</style>\n",
              "<table border=\"1\" class=\"dataframe\">\n",
              "  <thead>\n",
              "    <tr style=\"text-align: right;\">\n",
              "      <th></th>\n",
              "      <th>ride_id</th>\n",
              "      <th>rideable_type</th>\n",
              "      <th>started_at</th>\n",
              "      <th>ended_at</th>\n",
              "      <th>start_station_name</th>\n",
              "      <th>start_station_id</th>\n",
              "      <th>end_station_name</th>\n",
              "      <th>end_station_id</th>\n",
              "      <th>start_lat</th>\n",
              "      <th>start_lng</th>\n",
              "      <th>end_lat</th>\n",
              "      <th>end_lng</th>\n",
              "      <th>member_casual</th>\n",
              "      <th>ride_length</th>\n",
              "      <th>day_of_week</th>\n",
              "    </tr>\n",
              "  </thead>\n",
              "  <tbody>\n",
              "    <tr>\n",
              "      <th>0</th>\n",
              "      <td>9340B064F0AEE130</td>\n",
              "      <td>electric_bike</td>\n",
              "      <td>07/23/23 20:06</td>\n",
              "      <td>07/23/23 20:22</td>\n",
              "      <td>Kedzie Ave &amp; 110th St</td>\n",
              "      <td>20204</td>\n",
              "      <td>Public Rack - Racine Ave &amp; 109th Pl</td>\n",
              "      <td>877</td>\n",
              "      <td>41.692406</td>\n",
              "      <td>-87.700905</td>\n",
              "      <td>41.694835</td>\n",
              "      <td>-87.653041</td>\n",
              "      <td>member</td>\n",
              "      <td>0:16:30</td>\n",
              "      <td>1</td>\n",
              "    </tr>\n",
              "    <tr>\n",
              "      <th>1</th>\n",
              "      <td>D1460EE3CE0D8AF8</td>\n",
              "      <td>classic_bike</td>\n",
              "      <td>07/23/23 17:05</td>\n",
              "      <td>07/23/23 17:18</td>\n",
              "      <td>Western Ave &amp; Walton St</td>\n",
              "      <td>KA1504000103</td>\n",
              "      <td>Milwaukee Ave &amp; Grand Ave</td>\n",
              "      <td>13033</td>\n",
              "      <td>41.898418</td>\n",
              "      <td>-87.686596</td>\n",
              "      <td>41.891578</td>\n",
              "      <td>-87.648384</td>\n",
              "      <td>member</td>\n",
              "      <td>0:13:30</td>\n",
              "      <td>1</td>\n",
              "    </tr>\n",
              "    <tr>\n",
              "      <th>2</th>\n",
              "      <td>DF41BE31B895A25E</td>\n",
              "      <td>classic_bike</td>\n",
              "      <td>07/23/23 10:14</td>\n",
              "      <td>07/23/23 10:24</td>\n",
              "      <td>Western Ave &amp; Walton St</td>\n",
              "      <td>KA1504000103</td>\n",
              "      <td>Damen Ave &amp; Pierce Ave</td>\n",
              "      <td>TA1305000041</td>\n",
              "      <td>41.898418</td>\n",
              "      <td>-87.686596</td>\n",
              "      <td>41.909396</td>\n",
              "      <td>-87.677692</td>\n",
              "      <td>member</td>\n",
              "      <td>0:09:36</td>\n",
              "      <td>1</td>\n",
              "    </tr>\n",
              "    <tr>\n",
              "      <th>3</th>\n",
              "      <td>9624A293749EF703</td>\n",
              "      <td>electric_bike</td>\n",
              "      <td>07/21/23 8:27</td>\n",
              "      <td>07/21/23 8:32</td>\n",
              "      <td>Racine Ave &amp; Randolph St</td>\n",
              "      <td>13155</td>\n",
              "      <td>Clinton St &amp; Madison St</td>\n",
              "      <td>TA1305000032</td>\n",
              "      <td>41.884112</td>\n",
              "      <td>-87.656943</td>\n",
              "      <td>41.882752</td>\n",
              "      <td>-87.641190</td>\n",
              "      <td>member</td>\n",
              "      <td>0:04:56</td>\n",
              "      <td>6</td>\n",
              "    </tr>\n",
              "    <tr>\n",
              "      <th>4</th>\n",
              "      <td>2F68A6A4CDB4C99A</td>\n",
              "      <td>classic_bike</td>\n",
              "      <td>07/08/23 15:46</td>\n",
              "      <td>07/08/23 15:58</td>\n",
              "      <td>Clark St &amp; Leland Ave</td>\n",
              "      <td>TA1309000014</td>\n",
              "      <td>Montrose Harbor</td>\n",
              "      <td>TA1308000012</td>\n",
              "      <td>41.967088</td>\n",
              "      <td>-87.667291</td>\n",
              "      <td>41.963982</td>\n",
              "      <td>-87.638181</td>\n",
              "      <td>member</td>\n",
              "      <td>0:11:26</td>\n",
              "      <td>7</td>\n",
              "    </tr>\n",
              "  </tbody>\n",
              "</table>\n",
              "</div>\n",
              "    <div class=\"colab-df-buttons\">\n",
              "\n",
              "  <div class=\"colab-df-container\">\n",
              "    <button class=\"colab-df-convert\" onclick=\"convertToInteractive('df-a9970d04-452b-4588-b353-5bc22ad36c38')\"\n",
              "            title=\"Convert this dataframe to an interactive table.\"\n",
              "            style=\"display:none;\">\n",
              "\n",
              "  <svg xmlns=\"http://www.w3.org/2000/svg\" height=\"24px\" viewBox=\"0 -960 960 960\">\n",
              "    <path d=\"M120-120v-720h720v720H120Zm60-500h600v-160H180v160Zm220 220h160v-160H400v160Zm0 220h160v-160H400v160ZM180-400h160v-160H180v160Zm440 0h160v-160H620v160ZM180-180h160v-160H180v160Zm440 0h160v-160H620v160Z\"/>\n",
              "  </svg>\n",
              "    </button>\n",
              "\n",
              "  <style>\n",
              "    .colab-df-container {\n",
              "      display:flex;\n",
              "      gap: 12px;\n",
              "    }\n",
              "\n",
              "    .colab-df-convert {\n",
              "      background-color: #E8F0FE;\n",
              "      border: none;\n",
              "      border-radius: 50%;\n",
              "      cursor: pointer;\n",
              "      display: none;\n",
              "      fill: #1967D2;\n",
              "      height: 32px;\n",
              "      padding: 0 0 0 0;\n",
              "      width: 32px;\n",
              "    }\n",
              "\n",
              "    .colab-df-convert:hover {\n",
              "      background-color: #E2EBFA;\n",
              "      box-shadow: 0px 1px 2px rgba(60, 64, 67, 0.3), 0px 1px 3px 1px rgba(60, 64, 67, 0.15);\n",
              "      fill: #174EA6;\n",
              "    }\n",
              "\n",
              "    .colab-df-buttons div {\n",
              "      margin-bottom: 4px;\n",
              "    }\n",
              "\n",
              "    [theme=dark] .colab-df-convert {\n",
              "      background-color: #3B4455;\n",
              "      fill: #D2E3FC;\n",
              "    }\n",
              "\n",
              "    [theme=dark] .colab-df-convert:hover {\n",
              "      background-color: #434B5C;\n",
              "      box-shadow: 0px 1px 3px 1px rgba(0, 0, 0, 0.15);\n",
              "      filter: drop-shadow(0px 1px 2px rgba(0, 0, 0, 0.3));\n",
              "      fill: #FFFFFF;\n",
              "    }\n",
              "  </style>\n",
              "\n",
              "    <script>\n",
              "      const buttonEl =\n",
              "        document.querySelector('#df-a9970d04-452b-4588-b353-5bc22ad36c38 button.colab-df-convert');\n",
              "      buttonEl.style.display =\n",
              "        google.colab.kernel.accessAllowed ? 'block' : 'none';\n",
              "\n",
              "      async function convertToInteractive(key) {\n",
              "        const element = document.querySelector('#df-a9970d04-452b-4588-b353-5bc22ad36c38');\n",
              "        const dataTable =\n",
              "          await google.colab.kernel.invokeFunction('convertToInteractive',\n",
              "                                                    [key], {});\n",
              "        if (!dataTable) return;\n",
              "\n",
              "        const docLinkHtml = 'Like what you see? Visit the ' +\n",
              "          '<a target=\"_blank\" href=https://colab.research.google.com/notebooks/data_table.ipynb>data table notebook</a>'\n",
              "          + ' to learn more about interactive tables.';\n",
              "        element.innerHTML = '';\n",
              "        dataTable['output_type'] = 'display_data';\n",
              "        await google.colab.output.renderOutput(dataTable, element);\n",
              "        const docLink = document.createElement('div');\n",
              "        docLink.innerHTML = docLinkHtml;\n",
              "        element.appendChild(docLink);\n",
              "      }\n",
              "    </script>\n",
              "  </div>\n",
              "\n",
              "\n",
              "<div id=\"df-b2490b94-75af-4243-b76a-694aee95e6bf\">\n",
              "  <button class=\"colab-df-quickchart\" onclick=\"quickchart('df-b2490b94-75af-4243-b76a-694aee95e6bf')\"\n",
              "            title=\"Suggest charts\"\n",
              "            style=\"display:none;\">\n",
              "\n",
              "<svg xmlns=\"http://www.w3.org/2000/svg\" height=\"24px\"viewBox=\"0 0 24 24\"\n",
              "     width=\"24px\">\n",
              "    <g>\n",
              "        <path d=\"M19 3H5c-1.1 0-2 .9-2 2v14c0 1.1.9 2 2 2h14c1.1 0 2-.9 2-2V5c0-1.1-.9-2-2-2zM9 17H7v-7h2v7zm4 0h-2V7h2v10zm4 0h-2v-4h2v4z\"/>\n",
              "    </g>\n",
              "</svg>\n",
              "  </button>\n",
              "\n",
              "<style>\n",
              "  .colab-df-quickchart {\n",
              "      --bg-color: #E8F0FE;\n",
              "      --fill-color: #1967D2;\n",
              "      --hover-bg-color: #E2EBFA;\n",
              "      --hover-fill-color: #174EA6;\n",
              "      --disabled-fill-color: #AAA;\n",
              "      --disabled-bg-color: #DDD;\n",
              "  }\n",
              "\n",
              "  [theme=dark] .colab-df-quickchart {\n",
              "      --bg-color: #3B4455;\n",
              "      --fill-color: #D2E3FC;\n",
              "      --hover-bg-color: #434B5C;\n",
              "      --hover-fill-color: #FFFFFF;\n",
              "      --disabled-bg-color: #3B4455;\n",
              "      --disabled-fill-color: #666;\n",
              "  }\n",
              "\n",
              "  .colab-df-quickchart {\n",
              "    background-color: var(--bg-color);\n",
              "    border: none;\n",
              "    border-radius: 50%;\n",
              "    cursor: pointer;\n",
              "    display: none;\n",
              "    fill: var(--fill-color);\n",
              "    height: 32px;\n",
              "    padding: 0;\n",
              "    width: 32px;\n",
              "  }\n",
              "\n",
              "  .colab-df-quickchart:hover {\n",
              "    background-color: var(--hover-bg-color);\n",
              "    box-shadow: 0 1px 2px rgba(60, 64, 67, 0.3), 0 1px 3px 1px rgba(60, 64, 67, 0.15);\n",
              "    fill: var(--button-hover-fill-color);\n",
              "  }\n",
              "\n",
              "  .colab-df-quickchart-complete:disabled,\n",
              "  .colab-df-quickchart-complete:disabled:hover {\n",
              "    background-color: var(--disabled-bg-color);\n",
              "    fill: var(--disabled-fill-color);\n",
              "    box-shadow: none;\n",
              "  }\n",
              "\n",
              "  .colab-df-spinner {\n",
              "    border: 2px solid var(--fill-color);\n",
              "    border-color: transparent;\n",
              "    border-bottom-color: var(--fill-color);\n",
              "    animation:\n",
              "      spin 1s steps(1) infinite;\n",
              "  }\n",
              "\n",
              "  @keyframes spin {\n",
              "    0% {\n",
              "      border-color: transparent;\n",
              "      border-bottom-color: var(--fill-color);\n",
              "      border-left-color: var(--fill-color);\n",
              "    }\n",
              "    20% {\n",
              "      border-color: transparent;\n",
              "      border-left-color: var(--fill-color);\n",
              "      border-top-color: var(--fill-color);\n",
              "    }\n",
              "    30% {\n",
              "      border-color: transparent;\n",
              "      border-left-color: var(--fill-color);\n",
              "      border-top-color: var(--fill-color);\n",
              "      border-right-color: var(--fill-color);\n",
              "    }\n",
              "    40% {\n",
              "      border-color: transparent;\n",
              "      border-right-color: var(--fill-color);\n",
              "      border-top-color: var(--fill-color);\n",
              "    }\n",
              "    60% {\n",
              "      border-color: transparent;\n",
              "      border-right-color: var(--fill-color);\n",
              "    }\n",
              "    80% {\n",
              "      border-color: transparent;\n",
              "      border-right-color: var(--fill-color);\n",
              "      border-bottom-color: var(--fill-color);\n",
              "    }\n",
              "    90% {\n",
              "      border-color: transparent;\n",
              "      border-bottom-color: var(--fill-color);\n",
              "    }\n",
              "  }\n",
              "</style>\n",
              "\n",
              "  <script>\n",
              "    async function quickchart(key) {\n",
              "      const quickchartButtonEl =\n",
              "        document.querySelector('#' + key + ' button');\n",
              "      quickchartButtonEl.disabled = true;  // To prevent multiple clicks.\n",
              "      quickchartButtonEl.classList.add('colab-df-spinner');\n",
              "      try {\n",
              "        const charts = await google.colab.kernel.invokeFunction(\n",
              "            'suggestCharts', [key], {});\n",
              "      } catch (error) {\n",
              "        console.error('Error during call to suggestCharts:', error);\n",
              "      }\n",
              "      quickchartButtonEl.classList.remove('colab-df-spinner');\n",
              "      quickchartButtonEl.classList.add('colab-df-quickchart-complete');\n",
              "    }\n",
              "    (() => {\n",
              "      let quickchartButtonEl =\n",
              "        document.querySelector('#df-b2490b94-75af-4243-b76a-694aee95e6bf button');\n",
              "      quickchartButtonEl.style.display =\n",
              "        google.colab.kernel.accessAllowed ? 'block' : 'none';\n",
              "    })();\n",
              "  </script>\n",
              "</div>\n",
              "\n",
              "    </div>\n",
              "  </div>\n"
            ],
            "application/vnd.google.colaboratory.intrinsic+json": {
              "type": "dataframe",
              "variable_name": "df"
            }
          },
          "metadata": {},
          "execution_count": 4
        }
      ]
    },
    {
      "cell_type": "markdown",
      "source": [
        "* There are missing values in the columns start_station_name, start_station_id, end_station_name, end_station_id, end_lat and end_lng. For now, we will focus on the ride's duration and the day of the week.\n",
        "* So, we will not drop the missing values in the columns start_station_name, start_station_id, end_station_name, and end_station_id as it would remove the lion's share from our data.\n",
        "* Since there are no missing values in the columns we focus on, which are ride_length and day_of_week, we go ahead without dropping the above missing values.\n",
        "* However, we impute the columns end_lat and end_lng using the mean.\n"
      ],
      "metadata": {
        "id": "GDEFHNrMG4KZ"
      }
    },
    {
      "cell_type": "code",
      "source": [
        "# impute end_lat and end_lng using mean\n",
        "df['end_lat'] = df['end_lat'].fillna(df['end_lat'].mean())\n",
        "df['end_lng'] = df['end_lng'].fillna(df['end_lng'].mean())\n",
        "\n",
        "# confirm the imputation\n",
        "df.isna().sum()"
      ],
      "metadata": {
        "id": "dcjkeRBgiVTg",
        "colab": {
          "base_uri": "https://localhost:8080/"
        },
        "outputId": "dcd7205c-4ab0-4024-8c19-9483606f2799"
      },
      "execution_count": null,
      "outputs": [
        {
          "output_type": "execute_result",
          "data": {
            "text/plain": [
              "ride_id                    0\n",
              "rideable_type              0\n",
              "started_at                 0\n",
              "ended_at                   0\n",
              "start_station_name    933350\n",
              "start_station_id      933350\n",
              "end_station_name      980959\n",
              "end_station_id        980959\n",
              "start_lat                  0\n",
              "start_lng                  0\n",
              "end_lat                    0\n",
              "end_lng                    0\n",
              "member_casual              0\n",
              "ride_length                0\n",
              "day_of_week                0\n",
              "dtype: int64"
            ]
          },
          "metadata": {},
          "execution_count": 5
        }
      ]
    },
    {
      "cell_type": "code",
      "execution_count": null,
      "metadata": {
        "colab": {
          "base_uri": "https://localhost:8080/"
        },
        "id": "wNQvwC1xJ2MQ",
        "outputId": "72132646-ea90-4889-c166-a5d279818093"
      },
      "outputs": [
        {
          "output_type": "execute_result",
          "data": {
            "text/plain": [
              "0"
            ]
          },
          "metadata": {},
          "execution_count": 15
        }
      ],
      "source": [
        "# check for duplicates\n",
        "df.duplicated().sum()"
      ]
    },
    {
      "cell_type": "markdown",
      "source": [
        "* And we see that there are duplicated records present in our data.\n",
        "* Now, Going for the descriptive analysis, we have,\n"
      ],
      "metadata": {
        "id": "T5ThfLo5sJGw"
      }
    },
    {
      "cell_type": "code",
      "source": [
        "# Summary statistics for the entire dataset\n",
        "print(\"Summary Statistics for the Entire Dataset:\")\n",
        "print(df.describe())\n",
        "\n",
        "# Summary statistics for annual members\n",
        "print(\"\\nSummary Statistics for Annual Members:\")\n",
        "print(df[df['member_casual'] == 'member'].describe())\n",
        "\n",
        "# Summary statistics for casual riders\n",
        "print(\"\\nSummary Statistics for Casual Riders:\")\n",
        "print(df[df['member_casual'] == 'casual'].describe())"
      ],
      "metadata": {
        "colab": {
          "base_uri": "https://localhost:8080/"
        },
        "id": "ZduD-YSksgK-",
        "outputId": "ba29a103-c9ac-4e9f-ee20-d8b490b09620"
      },
      "execution_count": null,
      "outputs": [
        {
          "output_type": "stream",
          "name": "stdout",
          "text": [
            "Summary Statistics for the Entire Dataset:\n",
            "          start_lat     start_lng       end_lat       end_lng   day_of_week\n",
            "count  5.740211e+06  5.740211e+06  5.740211e+06  5.740211e+06  5.740211e+06\n",
            "mean   4.190288e+01 -8.764667e+01  4.190325e+01 -8.764689e+01  4.088204e+00\n",
            "std    4.517871e-02  2.729548e-02  4.853924e-02  4.570883e-02  2.002692e+00\n",
            "min    4.163000e+01 -8.794000e+01  0.000000e+00 -8.812000e+01  1.000000e+00\n",
            "25%    4.188096e+01 -8.766000e+01  4.188103e+01 -8.766000e+01  2.000000e+00\n",
            "50%    4.189897e+01 -8.764336e+01  4.189993e+01 -8.764395e+01  4.000000e+00\n",
            "75%    4.193000e+01 -8.762963e+01  4.193000e+01 -8.762979e+01  6.000000e+00\n",
            "max    4.207000e+01 -8.746000e+01  4.219000e+01  0.000000e+00  7.000000e+00\n",
            "\n",
            "Summary Statistics for Annual Members:\n",
            "          start_lat     start_lng       end_lat       end_lng   day_of_week\n",
            "count  3.688363e+06  3.688363e+06  3.688363e+06  3.688363e+06  3.688363e+06\n",
            "mean   4.190232e+01 -8.764741e+01  4.190261e+01 -8.764756e+01  4.053541e+00\n",
            "std    4.473588e-02  2.612114e-02  4.488737e-02  2.618676e-02  1.908489e+00\n",
            "min    4.163000e+01 -8.794000e+01  4.162000e+01 -8.799000e+01  1.000000e+00\n",
            "25%    4.188033e+01 -8.766014e+01  4.188033e+01 -8.766028e+01  2.000000e+00\n",
            "50%    4.189820e+01 -8.764436e+01  4.189897e+01 -8.764445e+01  4.000000e+00\n",
            "75%    4.193000e+01 -8.763058e+01  4.193000e+01 -8.763083e+01  6.000000e+00\n",
            "max    4.207000e+01 -8.746000e+01  4.215000e+01 -8.752000e+01  7.000000e+00\n",
            "\n",
            "Summary Statistics for Casual Riders:\n",
            "          start_lat     start_lng       end_lat       end_lng   day_of_week\n",
            "count  2.051848e+06  2.051848e+06  2.051848e+06  2.051848e+06  2.051848e+06\n",
            "mean   4.190389e+01 -8.764533e+01  4.190441e+01 -8.764567e+01  4.150514e+00\n",
            "std    4.594690e-02  2.924069e-02  5.447266e-02  6.789699e-02  2.160333e+00\n",
            "min    4.164000e+01 -8.792000e+01  0.000000e+00 -8.812000e+01  1.000000e+00\n",
            "25%    4.188114e+01 -8.766000e+01  4.188186e+01 -8.766000e+01  2.000000e+00\n",
            "50%    4.190000e+01 -8.764000e+01  4.190070e+01 -8.764000e+01  4.000000e+00\n",
            "75%    4.193000e+01 -8.762596e+01  4.193125e+01 -8.762603e+01  6.000000e+00\n",
            "max    4.207000e+01 -8.752000e+01  4.219000e+01  0.000000e+00  7.000000e+00\n"
          ]
        }
      ]
    },
    {
      "cell_type": "markdown",
      "source": [
        "* Annual members tend to use the service slightly more consistently throughout the week, with a mean day of the week of 4.05 compared to casual riders' 4.15. This suggests a slightly more varied usage pattern among casual riders.\n",
        "* Casual riders show higher variability in trip destinations, as indicated by the larger standard deviation in end latitude and longitude values. This variability could mean broader use cases like tourism or recreational activities.\n",
        "* In the 5.74 million rides, there are approximately 3.69 million rides by annual members, whereas, casual rides amount to approximately 2.05.\n",
        "* The average day of the week for rides is around Thursday, with a slight shift for casual riders indicating they might ride more on weekends. However, Thursday cannot be the most frequent day.\n"
      ],
      "metadata": {
        "id": "_A5FJb21tClO"
      }
    },
    {
      "cell_type": "code",
      "source": [
        "# plotting the distribution of Ride duration\n",
        "plt.figure(figsize=(10, 5))\n",
        "sns.histplot(df['ride_length'], bins = 50, kde=True)\n",
        "plt.title('Distribution of Ride Duration')\n",
        "plt.gca().set_xticks([])\n",
        "plt.ylabel('Frequency')\n",
        "plt.show()"
      ],
      "metadata": {
        "colab": {
          "base_uri": "https://localhost:8080/",
          "height": 464
        },
        "id": "aWrM6R_9r2-8",
        "outputId": "452ee23f-2cc6-4fc5-ff19-0ecc982c7274"
      },
      "execution_count": null,
      "outputs": [
        {
          "output_type": "display_data",
          "data": {
            "text/plain": [
              "<Figure size 1000x500 with 1 Axes>"
            ],
            "image/png": "[encoded data removed]"
          },
          "metadata": {}
        }
      ]
    },
    {
      "cell_type": "code",
      "source": [
        "# Cleaning the ride_length column - Ensure all entries are in HH:MM:SS format\n",
        "# Using regex to filter out invalid entries\n",
        "valid_format = df['ride_length'].str.match(r'^\\d+:\\d{2}:\\d{2}$')\n",
        "df = df[valid_format]\n",
        "\n",
        "# Convert 'ride_length' to timedelta\n",
        "df['ride_length'] = pd.to_timedelta(df['ride_length'])\n",
        "\n",
        "df['ride_length'].describe()"
      ],
      "metadata": {
        "id": "tBrS3l825YWu",
        "colab": {
          "base_uri": "https://localhost:8080/"
        },
        "outputId": "b1c4936c-4c7d-4e5d-ec49-68ac63a107dd"
      },
      "execution_count": null,
      "outputs": [
        {
          "output_type": "execute_result",
          "data": {
            "text/plain": [
              "count                      5739542\n",
              "mean     0 days 00:18:19.193484950\n",
              "std      0 days 02:38:40.112531189\n",
              "min                0 days 00:00:00\n",
              "25%                0 days 00:05:33\n",
              "50%                0 days 00:09:44\n",
              "75%                0 days 00:17:16\n",
              "max               68 days 09:29:04\n",
              "Name: ride_length, dtype: object"
            ]
          },
          "metadata": {},
          "execution_count": 6
        }
      ]
    },
    {
      "cell_type": "markdown",
      "source": [
        "From the above analyses, we have the following findings,\n",
        "* The average ride length is approximately 18 minutes and 19 seconds (0 days 00:18:19.193484950) and the standard deviation is about 2 hours, 38 minutes, and 40 seconds (0 days 02:38:40.112531189), indicating a high variability in ride lengths.\n",
        "* The median ride length is about 9 minutes and 44 seconds (0 days 00:09:44). This means that half of the rides are shorter than 9 minutes and 44 seconds, and half are longer.\n",
        "*\tThe majority of rides are relatively short, as indicated by the 25th, 50th, and 75th percentiles, which are all under 20 minutes. The mean ride length being higher than the median suggests that there are some very long rides that skew the average upwards.\n",
        "*\tThere is a high standard deviation, which indicates significant variability in ride lengths. This could be due to a mix of different use cases, such as short commutes versus longer leisure rides.\n",
        "*\tComing to the graph, the graph shows that a significant number of bike rides have short durations. This suggests that many users use bikes for quick trips or short distances. The peak around shorter duration suggests that the company’s bikes are well-suited for short trips, such as within a city center or for last-mile transportation.\n",
        "*\tWhile short rides dominate, a tail still extends to the right, indicating longer ride durations as well. To optimize bike availability and maintenance, Cyclistic could focus on ensuring a sufficient number of bikes for short rides while also catering to users who need longer durations.\n"
      ],
      "metadata": {
        "id": "f5-JgsJfrOXr"
      }
    },
    {
      "cell_type": "code",
      "source": [
        "# Distribution of rideable type\n",
        "plt.figure(figsize=(15, 5))\n",
        "sns.countplot(data=df, x='rideable_type', hue='member_casual')\n",
        "plt.title('Distribution of Rideable Type by Member Type')\n",
        "plt.xlabel('Rideable Type')\n",
        "plt.ylabel('Count')\n",
        "plt.legend(title='Member Type', loc='upper right')\n",
        "plt.show()"
      ],
      "metadata": {
        "colab": {
          "base_uri": "https://localhost:8080/",
          "height": 487
        },
        "id": "QvxDrY9ptJRf",
        "outputId": "cff474be-9ae0-49ba-89cd-c5c75d985721"
      },
      "execution_count": null,
      "outputs": [
        {
          "output_type": "display_data",
          "data": {
            "text/plain": [
              "<Figure size 1500x500 with 1 Axes>"
            ],
            "image/png": "[encoded data removed]"
          },
          "metadata": {}
        }
      ]
    },
    {
      "cell_type": "markdown",
      "source": [
        "* The above bar plot illustrates the distribution of rideable bike types among annual members and casual users. We have three types of bikes: electric bikes, classic bikes, and docked bikes.\n",
        "*\tBoth annual members and casual riders use electric bikes frequently, but annual members use them more. Classic bikes are the most popular type among both members and casual riders, with members again showing higher usage. Docked bikes are bikes that must be picked up from and returned to designated docking stations. Docked bikes are the least popular option for both groups, indicating a strong preference for electric and classic bikes.\n",
        "*\tMembers and casual riders both prefer classic bikes the most, followed by electric bikes, with docked bikes being the least preferred. Members consistently show higher usage of both electric and classic bikes compared to casual riders.\n",
        "*\tCyclistic has to focus more on maintaining and increasing their fleet of electric and classic bikes due to their high demand. Understanding the reasons behind the low popularity of docked bikes might reveal opportunities for service improvements or fleet optimisation.\n"
      ],
      "metadata": {
        "id": "Zp1JBdvCHqpi"
      }
    },
    {
      "cell_type": "code",
      "source": [
        "# Plotting the distribution of rides by day of the week\n",
        "plt.figure(figsize=(12, 6))\n",
        "sns.countplot(data=df, x='day_of_week', hue='member_casual', palette='viridis')\n",
        "plt.title('Number of Rides by Day of the Week')\n",
        "plt.xlabel('Day of the Week')\n",
        "plt.ylabel('Number of Rides')\n",
        "plt.legend(title='Member Type', loc='upper right', labels=['Casual', 'Member'])\n",
        "plt.xticks([0, 1, 2, 3, 4, 5, 6], ['Sun', 'Mon', 'Tue', 'Wed', 'Thu', 'Fri', 'Sat'])\n",
        "plt.show()"
      ],
      "metadata": {
        "id": "nJYe4dn7s6ay",
        "colab": {
          "base_uri": "https://localhost:8080/",
          "height": 564
        },
        "outputId": "ade09417-9715-4b9b-8be4-f965cf90f557"
      },
      "execution_count": null,
      "outputs": [
        {
          "output_type": "display_data",
          "data": {
            "text/plain": [
              "<Figure size 1200x600 with 1 Axes>"
            ],
            "image/png": "[encoded data removed]"
          },
          "metadata": {}
        }
      ]
    },
    {
      "cell_type": "markdown",
      "source": [
        "* Annual Members take more bike rides on weekends (Saturday and Sunday). This suggests that weekends are popular for leisurely rides or recreational biking. They are consistent on weekdays (monday to Friday), possibly for commuting or regular transportation. The consistent weekday usage by Members suggests that they rely on bikes for daily transportation needs.\n",
        "*\tOn weekdays, casual riders consistently outpace Casual riders, suggesting that they use bikes for daily transportation needs. They use comprise of more bikes than annual members even on weekdays. The higher number of rides on weekends indicates that people use bikes for non-work-related activities during their free time.\n",
        "*\tThe company can allocate more bikes on weekdays to meet the increased demand. Weekend bike availability should cater to Members' commuting needs. Marketing efforts could encourage Casual riders to use bikes during weekends.\n"
      ],
      "metadata": {
        "id": "LSp3GCzNHzl6"
      }
    },
    {
      "cell_type": "code",
      "source": [
        "# Dictionary mapping numeric day of week to day names\n",
        "day_mapping = {\n",
        "    1: 'Sunday',\n",
        "    2: 'Monday',\n",
        "    3: 'Tuesday',\n",
        "    4: 'Wednesday',\n",
        "    5: 'Thursday',\n",
        "    6: 'Friday',\n",
        "    7: 'Saturday'\n",
        "}\n",
        "\n",
        "# Calculate the mode of day_of_week\n",
        "mode_day_of_week = statistics.mode(jul['day_of_week'])\n",
        "mode_day_name = day_mapping[mode_day_of_week]\n",
        "print(\"Mode day of week:\", mode_day_name)"
      ],
      "metadata": {
        "id": "zwQUFNdOsPdv",
        "colab": {
          "base_uri": "https://localhost:8080/"
        },
        "outputId": "b1e003d0-880f-4350-ec6f-ebc51ab76a12"
      },
      "execution_count": null,
      "outputs": [
        {
          "output_type": "stream",
          "name": "stdout",
          "text": [
            "Mode day of week: Saturday\n"
          ]
        }
      ]
    },
    {
      "cell_type": "markdown",
      "source": [
        "* This suggests that Saturday has the highest frequency of bike usage compared to any other day, likely reflecting increased recreational or leisure activities during the weekend. Cyclistic can use this insight to ensure that more bikes are available on Saturdays to accommodate the higher demand."
      ],
      "metadata": {
        "id": "bQQx0LogIDB7"
      }
    },
    {
      "cell_type": "code",
      "execution_count": null,
      "metadata": {
        "colab": {
          "base_uri": "https://localhost:8080/"
        },
        "id": "2CXMn-NVMf1z",
        "outputId": "234f60a0-bbda-4ccd-9bc6-5ff26859f6ab"
      },
      "outputs": [
        {
          "output_type": "stream",
          "name": "stdout",
          "text": [
            "Average member ride length: 0 days 00:12:59.164767768\n",
            "Average casual ride length: 0 days 00:27:54.506756186\n"
          ]
        }
      ],
      "source": [
        "# average ride_length for members and casual riders\n",
        "avg_member_ride_length = df[df['member_casual'] == 'member']['ride_length'].mean()\n",
        "avg_casual_ride_length = df[df['member_casual'] == 'casual']['ride_length'].mean()\n",
        "\n",
        "print(\"Average member ride length:\", avg_member_ride_length)\n",
        "print(\"Average casual ride length:\", avg_casual_ride_length)"
      ]
    },
    {
      "cell_type": "markdown",
      "source": [
        "* On average, annual members ride for about 12 minutes and 59 seconds per ride. While this being the case, casual riders ride for about 27 minutes and 54 seconds per ride on average.\n",
        "*\tMembers tend to take shorter rides compared to casual riders, with an average ride duration of just under 13 minutes. This could suggest that members might use the service for shorter commuting or regular short trips.\n",
        "*\tCasual riders, on the other hand, take longer rides on average, almost 28 minutes per ride. This longer duration might indicate that casual riders use the service for leisurely rides, sightseeing, or longer trips compared to members.\n",
        "*\tThese insights into average ride lengths can be used to make informed decisions related to service offerings, pricing strategies, or resource allocation within the bike-sharing system.\n"
      ],
      "metadata": {
        "id": "tgipNLHkH7SX"
      }
    },
    {
      "cell_type": "code",
      "execution_count": null,
      "metadata": {
        "colab": {
          "base_uri": "https://localhost:8080/"
        },
        "id": "NG8aDSNQMokN",
        "outputId": "3414fb5a-c9a8-4764-86da-f53459b7d224"
      },
      "outputs": [
        {
          "output_type": "stream",
          "name": "stdout",
          "text": [
            "Average ride length on Sunday: 0 days 00:22:53.281846479\n",
            "Average ride length on Monday: 0 days 00:17:08.447597836\n",
            "Average ride length on Tuesday: 0 days 00:16:08.652066412\n",
            "Average ride length on Wednesday: 0 days 00:16:02.092353046\n",
            "Average ride length on Thursday: 0 days 00:16:00.786218339\n",
            "Average ride length on Friday: 0 days 00:17:51.678901648\n",
            "Average ride length on Saturday: 0 days 00:21:59.042420794\n"
          ]
        }
      ],
      "source": [
        "# average ride_length for users by day_of_week\n",
        "avg_ride_length_by_day = df.groupby('day_of_week')['ride_length'].mean()\n",
        "\n",
        "# Dictionary mapping numeric day of week to day names\n",
        "day_mapping = {\n",
        "    1: 'Sunday',\n",
        "    2: 'Monday',\n",
        "    3: 'Tuesday',\n",
        "    4: 'Wednesday',\n",
        "    5: 'Thursday',\n",
        "    6: 'Friday',\n",
        "    7: 'Saturday'\n",
        "}\n",
        "\n",
        "# Print the average ride_length for each day of the week\n",
        "for day, avg_length in avg_ride_length_by_day.items():\n",
        "    day_name = day_mapping[day]\n",
        "    print(f\"Average ride length on {day_name}: {avg_length}\")"
      ]
    },
    {
      "cell_type": "markdown",
      "source": [
        "* Sunday shows the longest average ride length at approximately 22 minutes and 53 seconds, followed closely by Saturday, with an average ride length of about 21 minutes and 59 seconds, reinforcing that weekends might see more leisurely or longer rides.\n",
        "*\tThese weekdays generally have a shorter average ride lengths ranging from about 16 to 18 minutes, indicating possibly more utilitarian or shorter-distance rides during the weekdays compared to weekends.  However, these days exhibit very similar average ride lengths. This consistency might indicate stable usage patterns or commuter behaviour with relatively predictable ride durations during the weekdays.\n",
        "*\tGiven the longer average ride lengths on weekends (Sunday and Saturday), bike-sharing services might consider special promotions or incentives to attract more riders during these days. Similarly, understanding the shorter average ride lengths on weekdays could influence operational decisions such as bike deployment or service availability adjustments to cater to shorter, possibly commuter-focused rides.\n"
      ],
      "metadata": {
        "id": "sBu5CjopIN34"
      }
    },
    {
      "cell_type": "code",
      "execution_count": null,
      "metadata": {
        "colab": {
          "base_uri": "https://localhost:8080/"
        },
        "id": "AV9P21vhM1qx",
        "outputId": "fa3ab17b-1c17-4e8a-defc-177156054447"
      },
      "outputs": [
        {
          "output_type": "stream",
          "name": "stdout",
          "text": [
            "Number of rides on Sunday: 116825\n",
            "Number of rides on Monday: 122535\n",
            "Number of rides on Tuesday: 101697\n",
            "Number of rides on Wednesday: 81886\n",
            "Number of rides on Thursday: 104125\n",
            "Number of rides on Friday: 104026\n",
            "Number of rides on Saturday: 136556\n"
          ]
        }
      ],
      "source": [
        "# number of rides for users by day_of_week\n",
        "rides_by_day = jul.groupby('day_of_week')['ride_id'].count()\n",
        "\n",
        "# Dictionary mapping numeric day of week to day names\n",
        "day_mapping = {\n",
        "    1: 'Sunday',\n",
        "    2: 'Monday',\n",
        "    3: 'Tuesday',\n",
        "    4: 'Wednesday',\n",
        "    5: 'Thursday',\n",
        "    6: 'Friday',\n",
        "    7: 'Saturday'\n",
        "}\n",
        "\n",
        "# Print the number of rides for each day of the week\n",
        "for day, count in rides_by_day.items():\n",
        "    day_name = day_mapping[day]\n",
        "    print(f\"Number of rides on {day_name}: {count}\")\n"
      ]
    },
    {
      "cell_type": "markdown",
      "source": [
        "* As we saw earlier, Saturday has the highest number of rides with 136,556 rides. Then, Sunday follows with 116,825 rides. This indicates that the bike-sharing service is most popular on weekends, likely due to people having more free time for leisure activities and outings.\n",
        "*\tThe number of rides tends to be lower in the middle of the week, particularly on Wednesday which has the lowest count of 81,886 rides. Tuesday and Thursday also have relatively lower numbers compared to the start and end of the work week, with 101,697 and 104,125 rides respectively.\n",
        "*\tA pattern can be seen on the beginning and end of each weeks. Mondays see a significant number of rides with 122,535 rides, suggesting a busy start to the work week with people possibly commuting to work or starting their week with activities. Similarly, the end of the week, Friday also has a relatively high number of rides at 104,026, which may reflect people preparing for the weekend or winding down their work week.\n",
        "*\tGiven the high usage on weekends, targeted promotions or special offers could be implemented to further capitalize on this peak period. Strategies to boost mid-week usage such as mid-week discounts, special events, or partnerships with local businesses to incentivize riding could be beneficial.\n",
        "*\tThe relatively high number of rides on Monday and Friday suggests that many users might be using the service for commuting. Enhancing commuter-friendly features such as ensuring that bikes are readily available and in good condition during rush hours, planning maintenance schedules during the non-peak hours and providing convenient docking stations near business districts could improve user satisfaction.\n"
      ],
      "metadata": {
        "id": "sxorMkVxy2TM"
      }
    },
    {
      "cell_type": "code",
      "source": [
        "# Specify the format of the 'started_at' column\n",
        "df['started_at'] = pd.to_datetime(df['started_at'], format='%m/%d/%y %H:%M', errors='coerce')\n",
        "\n",
        "# Extract the month from the 'started_at' column\n",
        "df['month'] = df['started_at'].dt.month\n",
        "\n",
        "# Filter data from July 2023 to June 2024\n",
        "df_filtered = df[(df['started_at'] >= '2023-07-01') & (df['started_at'] <= '2024-06-30')]\n",
        "\n",
        "# Specify the format of the 'started_at' column\n",
        "df_filtered['started_at'] = pd.to_datetime(df_filtered['started_at'], format='%m/%d/%y %H:%M', errors='coerce')\n",
        "\n",
        "# Extract the month from the 'started_at' column\n",
        "df_filtered['month'] = df_filtered['started_at'].dt.month\n",
        "\n",
        "# Group data by month and member type\n",
        "grouped_data = df_filtered.groupby(['month', 'member_casual'])['ride_id'].count().unstack()\n",
        "\n",
        "# Create a line chart with two lines, one for casual and one for member rides\n",
        "plt.figure(figsize=(12, 6))\n",
        "sns.lineplot(data=grouped_data, markers=True, dashes=False)\n",
        "\n",
        "# Set labels and title\n",
        "plt.xlabel('Month')\n",
        "plt.ylabel('Number of Rides')\n",
        "plt.title('Seasonal Variation of Usage by Member Type (July 2023 - June 2024)')\n",
        "\n",
        "# Label the months on the x-axis\n",
        "plt.xticks(ticks=range(1, 13), labels=['Jul', 'Aug', 'Sep', 'Oct', 'Nov', 'Dec', 'Jan', 'Feb', 'Mar', 'Apr', 'May', 'Jun'])\n",
        "\n",
        "# Show the plot\n",
        "plt.show()"
      ],
      "metadata": {
        "colab": {
          "base_uri": "https://localhost:8080/",
          "height": 772
        },
        "id": "MlE9X7h2TGKt",
        "outputId": "98b8705e-17dd-48b6-dbc6-69a465f930c4"
      },
      "execution_count": null,
      "outputs": [
        {
          "output_type": "stream",
          "name": "stderr",
          "text": [
            "<ipython-input-13-08cffe11d5a7>:5: SettingWithCopyWarning: \n",
            "A value is trying to be set on a copy of a slice from a DataFrame.\n",
            "Try using .loc[row_indexer,col_indexer] = value instead\n",
            "\n",
            "See the caveats in the documentation: https://pandas.pydata.org/pandas-docs/stable/user_guide/indexing.html#returning-a-view-versus-a-copy\n",
            "  df_filtered['started_at'] = pd.to_datetime(df_filtered['started_at'], format='%m/%d/%y %H:%M', errors='coerce')\n",
            "<ipython-input-13-08cffe11d5a7>:8: SettingWithCopyWarning: \n",
            "A value is trying to be set on a copy of a slice from a DataFrame.\n",
            "Try using .loc[row_indexer,col_indexer] = value instead\n",
            "\n",
            "See the caveats in the documentation: https://pandas.pydata.org/pandas-docs/stable/user_guide/indexing.html#returning-a-view-versus-a-copy\n",
            "  df_filtered['month'] = df_filtered['started_at'].dt.month\n"
          ]
        },
        {
          "output_type": "display_data",
          "data": {
            "text/plain": [
              "<Figure size 1200x600 with 1 Axes>"
            ],
            "image/png": "[encoded data removed]"
          },
          "metadata": {}
        }
      ]
    },
    {
      "cell_type": "markdown",
      "source": [
        "* The line representing casual riders starts lower in July and gradually increases. The peak for casual riders occurs in December - January, suggesting higher usage during the holiday season. After the new year, the casual rider line declines and remains below the member line.\n",
        "*\tThe member line peaks from July, possibly due to regular commuters. Members consistently have a higher number of rides compared to casual riders across all months. It gradually declines after November. Both the annual users and casual riders show more pronounced seasonal variation, with peaks in December and dips in summer.\n",
        "*\tBoth member and casual rider usage shows a distinct seasonal pattern. There is a general increase in usage for both groups from July to January, followed by a steady decline from February to June.\n",
        "*\tThe increase in bike usage during the winter months (November to January) might be influenced by favourable weather conditions, holidays, and potential seasonal promotions. While, the decline during the summer months (April to july) could be due to adverse weather conditions, vacations, or other factors reducing the need for bike usage.\n",
        "*\tCyclistic can allocate more resources and bikes during peak months (November to January) to meet the higher demand. Implementing marketing strategies during the off-peak months (April to July) might help in balancing the usage throughout the year.\n",
        "*\tThe consistent higher usage among members suggests that membership benefits are appealing. Cyclistic could highlight these benefits to encourage more casual riders to become members.\n",
        "*\tUnderstanding these trends allows Cyclistic to plan maintenance and operational activities during lower demand periods to minimize service disruptions.\n"
      ],
      "metadata": {
        "id": "A-CiteduIiHw"
      }
    }
  ],
  "metadata": {
    "colab": {
      "provenance": []
    },
    "kernelspec": {
      "display_name": "Python 3",
      "name": "python3"
    },
    "language_info": {
      "name": "python"
    }
  },
  "nbformat": 4,
  "nbformat_minor": 0
}